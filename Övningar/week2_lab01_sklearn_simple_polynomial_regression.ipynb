{
 "cells": [
  {
   "cell_type": "code",
   "execution_count": null,
   "metadata": {},
   "outputs": [],
   "source": [
    "import numpy as np\n",
    "import pandas as pd\n",
    "import seaborn as sns\n",
    "import matplotlib.pyplot as plt\n",
    "\n",
    "from sklearn import datasets, linear_model\n",
    "from sklearn.metrics import mean_squared_error, r2_score\n",
    "\n",
    "# Load the diabetes dataset\n",
    "used_cars_df = pd.read_csv('../data/used_cars.csv')"
   ]
  },
  {
   "cell_type": "code",
   "execution_count": 4,
   "metadata": {},
   "outputs": [
    {
     "data": {
      "text/html": [
       "<div>\n",
       "<style scoped>\n",
       "    .dataframe tbody tr th:only-of-type {\n",
       "        vertical-align: middle;\n",
       "    }\n",
       "\n",
       "    .dataframe tbody tr th {\n",
       "        vertical-align: top;\n",
       "    }\n",
       "\n",
       "    .dataframe thead th {\n",
       "        text-align: right;\n",
       "    }\n",
       "</style>\n",
       "<table border=\"1\" class=\"dataframe\">\n",
       "  <thead>\n",
       "    <tr style=\"text-align: right;\">\n",
       "      <th></th>\n",
       "      <th>Unnamed: 0</th>\n",
       "      <th>car_name</th>\n",
       "      <th>registration_year</th>\n",
       "      <th>insurance_validity</th>\n",
       "      <th>fuel_type</th>\n",
       "      <th>seats</th>\n",
       "      <th>kms_driven</th>\n",
       "      <th>ownsership</th>\n",
       "      <th>transmission</th>\n",
       "      <th>manufacturing_year</th>\n",
       "      <th>mileage(kmpl)</th>\n",
       "      <th>engine(cc)</th>\n",
       "      <th>max_power(bhp)</th>\n",
       "      <th>torque(Nm)</th>\n",
       "      <th>price(in lakhs)</th>\n",
       "    </tr>\n",
       "  </thead>\n",
       "  <tbody>\n",
       "    <tr>\n",
       "      <th>0</th>\n",
       "      <td>0</td>\n",
       "      <td>2017 Mercedes-Benz S-Class S400</td>\n",
       "      <td>Jul-17</td>\n",
       "      <td>Comprehensive</td>\n",
       "      <td>Petrol</td>\n",
       "      <td>5</td>\n",
       "      <td>56000</td>\n",
       "      <td>First Owner</td>\n",
       "      <td>Automatic</td>\n",
       "      <td>2017</td>\n",
       "      <td>7.81</td>\n",
       "      <td>2996.0</td>\n",
       "      <td>2996.0</td>\n",
       "      <td>333.0</td>\n",
       "      <td>63.75</td>\n",
       "    </tr>\n",
       "    <tr>\n",
       "      <th>1</th>\n",
       "      <td>1</td>\n",
       "      <td>2020 Nissan Magnite Turbo CVT XV Premium Opt BSVI</td>\n",
       "      <td>Jan-21</td>\n",
       "      <td>Comprehensive</td>\n",
       "      <td>Petrol</td>\n",
       "      <td>5</td>\n",
       "      <td>30615</td>\n",
       "      <td>First Owner</td>\n",
       "      <td>Automatic</td>\n",
       "      <td>2020</td>\n",
       "      <td>17.40</td>\n",
       "      <td>999.0</td>\n",
       "      <td>999.0</td>\n",
       "      <td>9863.0</td>\n",
       "      <td>8.99</td>\n",
       "    </tr>\n",
       "  </tbody>\n",
       "</table>\n",
       "</div>"
      ],
      "text/plain": [
       "   Unnamed: 0                                           car_name  \\\n",
       "0           0                    2017 Mercedes-Benz S-Class S400   \n",
       "1           1  2020 Nissan Magnite Turbo CVT XV Premium Opt BSVI   \n",
       "\n",
       "  registration_year insurance_validity fuel_type  seats  kms_driven  \\\n",
       "0            Jul-17      Comprehensive    Petrol      5       56000   \n",
       "1            Jan-21      Comprehensive    Petrol      5       30615   \n",
       "\n",
       "    ownsership transmission manufacturing_year  mileage(kmpl)  engine(cc)  \\\n",
       "0  First Owner    Automatic               2017           7.81      2996.0   \n",
       "1  First Owner    Automatic               2020          17.40       999.0   \n",
       "\n",
       "   max_power(bhp)  torque(Nm)  price(in lakhs)  \n",
       "0          2996.0       333.0            63.75  \n",
       "1           999.0      9863.0             8.99  "
      ]
     },
     "execution_count": 4,
     "metadata": {},
     "output_type": "execute_result"
    }
   ],
   "source": [
    "used_cars_df.head(2)"
   ]
  },
  {
   "cell_type": "markdown",
   "metadata": {},
   "source": [
    "## Exploratory data analysis (EDA) and data cleaning\n",
    "\n",
    "The target for our regression problem here is the column *price*. \n",
    "\n",
    "Each row represent the characteristics of a car, and the corresponding sales price of said car. We are free to choose which of the available features to fit a model to, and try to predict the target with.\n",
    "\n",
    "It's generally essential that we use our wits and domain expertise to pick and engineer good features for our model. Bad features will produce a bad model, with poor predictive power. In other word, a useless model."
   ]
  },
  {
   "cell_type": "markdown",
   "metadata": {},
   "source": [
    "**Remove a redundant column**"
   ]
  },
  {
   "cell_type": "code",
   "execution_count": 5,
   "metadata": {},
   "outputs": [
    {
     "data": {
      "text/plain": [
       "Index(['car_name', 'registration_year', 'insurance_validity', 'fuel_type',\n",
       "       'seats', 'kms_driven', 'ownsership', 'transmission',\n",
       "       'manufacturing_year', 'mileage(kmpl)', 'engine(cc)', 'max_power(bhp)',\n",
       "       'torque(Nm)', 'price(in lakhs)'],\n",
       "      dtype='object')"
      ]
     },
     "execution_count": 5,
     "metadata": {},
     "output_type": "execute_result"
    }
   ],
   "source": [
    "# remove the first column which looks like a copy of the index column\n",
    "\n",
    "columns_to_keep = used_cars_df.columns[1:]\n",
    "\n",
    "columns_to_keep"
   ]
  },
  {
   "cell_type": "code",
   "execution_count": 6,
   "metadata": {},
   "outputs": [
    {
     "data": {
      "text/html": [
       "<div>\n",
       "<style scoped>\n",
       "    .dataframe tbody tr th:only-of-type {\n",
       "        vertical-align: middle;\n",
       "    }\n",
       "\n",
       "    .dataframe tbody tr th {\n",
       "        vertical-align: top;\n",
       "    }\n",
       "\n",
       "    .dataframe thead th {\n",
       "        text-align: right;\n",
       "    }\n",
       "</style>\n",
       "<table border=\"1\" class=\"dataframe\">\n",
       "  <thead>\n",
       "    <tr style=\"text-align: right;\">\n",
       "      <th></th>\n",
       "      <th>car_name</th>\n",
       "      <th>registration_year</th>\n",
       "      <th>insurance_validity</th>\n",
       "      <th>fuel_type</th>\n",
       "      <th>seats</th>\n",
       "      <th>kms_driven</th>\n",
       "      <th>ownsership</th>\n",
       "      <th>transmission</th>\n",
       "      <th>manufacturing_year</th>\n",
       "      <th>mileage(kmpl)</th>\n",
       "      <th>engine(cc)</th>\n",
       "      <th>max_power(bhp)</th>\n",
       "      <th>torque(Nm)</th>\n",
       "      <th>price(in lakhs)</th>\n",
       "    </tr>\n",
       "  </thead>\n",
       "  <tbody>\n",
       "    <tr>\n",
       "      <th>0</th>\n",
       "      <td>2017 Mercedes-Benz S-Class S400</td>\n",
       "      <td>Jul-17</td>\n",
       "      <td>Comprehensive</td>\n",
       "      <td>Petrol</td>\n",
       "      <td>5</td>\n",
       "      <td>56000</td>\n",
       "      <td>First Owner</td>\n",
       "      <td>Automatic</td>\n",
       "      <td>2017</td>\n",
       "      <td>7.81</td>\n",
       "      <td>2996.0</td>\n",
       "      <td>2996.0</td>\n",
       "      <td>333.0</td>\n",
       "      <td>63.75</td>\n",
       "    </tr>\n",
       "    <tr>\n",
       "      <th>1</th>\n",
       "      <td>2020 Nissan Magnite Turbo CVT XV Premium Opt BSVI</td>\n",
       "      <td>Jan-21</td>\n",
       "      <td>Comprehensive</td>\n",
       "      <td>Petrol</td>\n",
       "      <td>5</td>\n",
       "      <td>30615</td>\n",
       "      <td>First Owner</td>\n",
       "      <td>Automatic</td>\n",
       "      <td>2020</td>\n",
       "      <td>17.40</td>\n",
       "      <td>999.0</td>\n",
       "      <td>999.0</td>\n",
       "      <td>9863.0</td>\n",
       "      <td>8.99</td>\n",
       "    </tr>\n",
       "  </tbody>\n",
       "</table>\n",
       "</div>"
      ],
      "text/plain": [
       "                                            car_name registration_year  \\\n",
       "0                    2017 Mercedes-Benz S-Class S400            Jul-17   \n",
       "1  2020 Nissan Magnite Turbo CVT XV Premium Opt BSVI            Jan-21   \n",
       "\n",
       "  insurance_validity fuel_type  seats  kms_driven   ownsership transmission  \\\n",
       "0      Comprehensive    Petrol      5       56000  First Owner    Automatic   \n",
       "1      Comprehensive    Petrol      5       30615  First Owner    Automatic   \n",
       "\n",
       "  manufacturing_year  mileage(kmpl)  engine(cc)  max_power(bhp)  torque(Nm)  \\\n",
       "0               2017           7.81      2996.0          2996.0       333.0   \n",
       "1               2020          17.40       999.0           999.0      9863.0   \n",
       "\n",
       "   price(in lakhs)  \n",
       "0            63.75  \n",
       "1             8.99  "
      ]
     },
     "execution_count": 6,
     "metadata": {},
     "output_type": "execute_result"
    }
   ],
   "source": [
    "used_cars_df = used_cars_df[columns_to_keep]\n",
    "\n",
    "used_cars_df.head(2)"
   ]
  },
  {
   "cell_type": "markdown",
   "metadata": {},
   "source": [
    "**Keep only numerical columns, for now**\n",
    "\n",
    "Many machine learning models require that the input are all numerical (since you can't do mathematic operations with anything else), and it is therefore essential that (when using models with that requirement) make sure that the data satisfies that condition.\n",
    "\n",
    "Note that there are ways to transform any given column into numericals that we can work with, but let's hold on with that for now and only keep the features that already are."
   ]
  },
  {
   "cell_type": "code",
   "execution_count": 7,
   "metadata": {},
   "outputs": [
    {
     "name": "stdout",
     "output_type": "stream",
     "text": [
      "<class 'pandas.core.frame.DataFrame'>\n",
      "RangeIndex: 1553 entries, 0 to 1552\n",
      "Data columns (total 14 columns):\n",
      " #   Column              Non-Null Count  Dtype  \n",
      "---  ------              --------------  -----  \n",
      " 0   car_name            1553 non-null   object \n",
      " 1   registration_year   1553 non-null   object \n",
      " 2   insurance_validity  1553 non-null   object \n",
      " 3   fuel_type           1553 non-null   object \n",
      " 4   seats               1553 non-null   int64  \n",
      " 5   kms_driven          1553 non-null   int64  \n",
      " 6   ownsership          1553 non-null   object \n",
      " 7   transmission        1553 non-null   object \n",
      " 8   manufacturing_year  1553 non-null   object \n",
      " 9   mileage(kmpl)       1550 non-null   float64\n",
      " 10  engine(cc)          1550 non-null   float64\n",
      " 11  max_power(bhp)      1550 non-null   float64\n",
      " 12  torque(Nm)          1549 non-null   float64\n",
      " 13  price(in lakhs)     1553 non-null   float64\n",
      "dtypes: float64(5), int64(2), object(7)\n",
      "memory usage: 170.0+ KB\n"
     ]
    }
   ],
   "source": [
    "used_cars_df.info()"
   ]
  },
  {
   "cell_type": "code",
   "execution_count": 8,
   "metadata": {},
   "outputs": [
    {
     "name": "stdout",
     "output_type": "stream",
     "text": [
      "<class 'pandas.core.frame.DataFrame'>\n",
      "RangeIndex: 1553 entries, 0 to 1552\n",
      "Data columns (total 7 columns):\n",
      " #   Column           Non-Null Count  Dtype  \n",
      "---  ------           --------------  -----  \n",
      " 0   seats            1553 non-null   int64  \n",
      " 1   kms_driven       1553 non-null   int64  \n",
      " 2   mileage(kmpl)    1550 non-null   float64\n",
      " 3   engine(cc)       1550 non-null   float64\n",
      " 4   max_power(bhp)   1550 non-null   float64\n",
      " 5   torque(Nm)       1549 non-null   float64\n",
      " 6   price(in lakhs)  1553 non-null   float64\n",
      "dtypes: float64(5), int64(2)\n",
      "memory usage: 85.1 KB\n"
     ]
    }
   ],
   "source": [
    "used_cars_df = used_cars_df.select_dtypes(include=['int64', 'float64'])\n",
    "\n",
    "used_cars_df.info()"
   ]
  },
  {
   "cell_type": "markdown",
   "metadata": {},
   "source": [
    "**Deal with missing data**\n",
    "\n",
    "Let's try to find and mitigate missing data. Note that whether to remove data points is a very sensitive decision, and should be carefully considered. \n",
    "\n",
    "Augmenting and fixing the data is a better alternative, if the time to do so is available. \n",
    "\n",
    "All changes we do to the training data *will* affect our model's performance, either insignificantly or significantly - depending on the changes we've made, and to what extent."
   ]
  },
  {
   "cell_type": "code",
   "execution_count": 9,
   "metadata": {},
   "outputs": [
    {
     "data": {
      "text/plain": [
       "seats              0\n",
       "kms_driven         0\n",
       "mileage(kmpl)      3\n",
       "engine(cc)         3\n",
       "max_power(bhp)     3\n",
       "torque(Nm)         4\n",
       "price(in lakhs)    0\n",
       "dtype: int64"
      ]
     },
     "execution_count": 9,
     "metadata": {},
     "output_type": "execute_result"
    }
   ],
   "source": [
    "# check for null data\n",
    "\n",
    "used_cars_df.isnull().sum()"
   ]
  },
  {
   "cell_type": "markdown",
   "metadata": {},
   "source": [
    "We'll opt for the lazy way out here, and remove the null data since it's affecting a very low amount of records (not a good argument btw). \n",
    "\n",
    "This is generally not a recommended approach though, it might be well worth fixing the data instead.\n",
    "\n",
    "**Question**: What consequences on the data does our decision to remove these records potentially have?"
   ]
  },
  {
   "cell_type": "code",
   "execution_count": 10,
   "metadata": {},
   "outputs": [
    {
     "data": {
      "text/plain": [
       "seats              0\n",
       "kms_driven         0\n",
       "mileage(kmpl)      0\n",
       "engine(cc)         0\n",
       "max_power(bhp)     0\n",
       "torque(Nm)         0\n",
       "price(in lakhs)    0\n",
       "dtype: int64"
      ]
     },
     "execution_count": 10,
     "metadata": {},
     "output_type": "execute_result"
    }
   ],
   "source": [
    "used_cars_df = used_cars_df.dropna().reset_index(drop=True)\n",
    "\n",
    "used_cars_df.isnull().sum()"
   ]
  },
  {
   "cell_type": "markdown",
   "metadata": {},
   "source": [
    "**Dealing with unreasonable data**\n",
    "\n",
    "Usually, we have to spend considerable time to just clean the data and get rid of crap that has nested it's way into it.\n",
    "\n",
    "Crap in data is very common in real life."
   ]
  },
  {
   "cell_type": "markdown",
   "metadata": {},
   "source": [
    "Let's begin by trying to understand the price column a bit better."
   ]
  },
  {
   "cell_type": "code",
   "execution_count": 11,
   "metadata": {},
   "outputs": [
    {
     "data": {
      "image/png": "[encoded data removed]",
      "text/plain": [
       "<Figure size 640x480 with 1 Axes>"
      ]
     },
     "metadata": {},
     "output_type": "display_data"
    }
   ],
   "source": [
    "plt.hist(used_cars_df['price(in lakhs)'], bins=50)\n",
    "plt.xlabel('Price (in lakhs)')\n",
    "plt.ylabel('Frequency')\n",
    "plt.title('Histogram of Car Prices')\n",
    "plt.show()"
   ]
  },
  {
   "cell_type": "markdown",
   "metadata": {},
   "source": [
    "That's strange, it looks like there are a few cars that are extremely expensive. This is not incorrect per se, but let's look deeper."
   ]
  },
  {
   "cell_type": "code",
   "execution_count": 12,
   "metadata": {},
   "outputs": [
    {
     "data": {
      "text/html": [
       "<div>\n",
       "<style scoped>\n",
       "    .dataframe tbody tr th:only-of-type {\n",
       "        vertical-align: middle;\n",
       "    }\n",
       "\n",
       "    .dataframe tbody tr th {\n",
       "        vertical-align: top;\n",
       "    }\n",
       "\n",
       "    .dataframe thead th {\n",
       "        text-align: right;\n",
       "    }\n",
       "</style>\n",
       "<table border=\"1\" class=\"dataframe\">\n",
       "  <thead>\n",
       "    <tr style=\"text-align: right;\">\n",
       "      <th></th>\n",
       "      <th>seats</th>\n",
       "      <th>kms_driven</th>\n",
       "      <th>mileage(kmpl)</th>\n",
       "      <th>engine(cc)</th>\n",
       "      <th>max_power(bhp)</th>\n",
       "      <th>torque(Nm)</th>\n",
       "      <th>price(in lakhs)</th>\n",
       "    </tr>\n",
       "  </thead>\n",
       "  <tbody>\n",
       "    <tr>\n",
       "      <th>173</th>\n",
       "      <td>5</td>\n",
       "      <td>66717</td>\n",
       "      <td>1196.0</td>\n",
       "      <td>70.0</td>\n",
       "      <td>70.0</td>\n",
       "      <td>102.0</td>\n",
       "      <td>70000.0</td>\n",
       "    </tr>\n",
       "    <tr>\n",
       "      <th>193</th>\n",
       "      <td>5</td>\n",
       "      <td>66717</td>\n",
       "      <td>1196.0</td>\n",
       "      <td>70.0</td>\n",
       "      <td>70.0</td>\n",
       "      <td>102.0</td>\n",
       "      <td>70000.0</td>\n",
       "    </tr>\n",
       "    <tr>\n",
       "      <th>1273</th>\n",
       "      <td>5</td>\n",
       "      <td>44002</td>\n",
       "      <td>19.7</td>\n",
       "      <td>796.0</td>\n",
       "      <td>796.0</td>\n",
       "      <td>463.0</td>\n",
       "      <td>95000.0</td>\n",
       "    </tr>\n",
       "  </tbody>\n",
       "</table>\n",
       "</div>"
      ],
      "text/plain": [
       "      seats  kms_driven  mileage(kmpl)  engine(cc)  max_power(bhp)  \\\n",
       "173       5       66717         1196.0        70.0            70.0   \n",
       "193       5       66717         1196.0        70.0            70.0   \n",
       "1273      5       44002           19.7       796.0           796.0   \n",
       "\n",
       "      torque(Nm)  price(in lakhs)  \n",
       "173        102.0          70000.0  \n",
       "193        102.0          70000.0  \n",
       "1273       463.0          95000.0  "
      ]
     },
     "execution_count": 12,
     "metadata": {},
     "output_type": "execute_result"
    }
   ],
   "source": [
    "used_cars_df[used_cars_df['price(in lakhs)']>=100.5]"
   ]
  },
  {
   "cell_type": "markdown",
   "metadata": {},
   "source": [
    "Ok, so we have 3 records of cars that looks to suspicous.\n",
    "\n",
    "Since Ali has been in India, he knows that 1 lakh is a common indian measure that means one hundred thousand (indian rupees, in this case).\n",
    "\n",
    "70000 lakhs is therefore 70000 * 100.000 = 7000000000 (indian rupees).\n",
    "\n",
    "Converting this to Swedish currency we get 877 447 200 SEK. Not reasonably at all. \n",
    "\n",
    "Let's just remove these records for simplicity, and plot again"
   ]
  },
  {
   "cell_type": "code",
   "execution_count": 13,
   "metadata": {},
   "outputs": [
    {
     "data": {
      "text/plain": [
       "Text(0, 0.5, 'Frequency')"
      ]
     },
     "execution_count": 13,
     "metadata": {},
     "output_type": "execute_result"
    },
    {
     "data": {
      "image/png": "[encoded data removed]",
      "text/plain": [
       "<Figure size 640x480 with 1 Axes>"
      ]
     },
     "metadata": {},
     "output_type": "display_data"
    }
   ],
   "source": [
    "used_cars_df = used_cars_df[used_cars_df['price(in lakhs)']<12.5].reset_index(drop=True)\n",
    "plt.hist(used_cars_df['price(in lakhs)'], bins=50)\n",
    "plt.xlabel('Price (in lakhs)')\n",
    "plt.ylabel('Frequency')"
   ]
  },
  {
   "cell_type": "markdown",
   "metadata": {},
   "source": [
    "Ah, now it looks much more realistic!"
   ]
  },
  {
   "cell_type": "markdown",
   "metadata": {},
   "source": [
    "Ok, great. Let's also take a look at kms_driven"
   ]
  },
  {
   "cell_type": "code",
   "execution_count": 14,
   "metadata": {},
   "outputs": [
    {
     "data": {
      "image/png": "[encoded data removed]",
      "text/plain": [
       "<Figure size 640x480 with 1 Axes>"
      ]
     },
     "metadata": {},
     "output_type": "display_data"
    }
   ],
   "source": [
    "plt.hist(used_cars_df['kms_driven'], bins=50, color='green');\n",
    "\n",
    "plt.xlabel('kms_driven');\n",
    "plt.ylabel('count');"
   ]
  },
  {
   "cell_type": "markdown",
   "metadata": {},
   "source": [
    "Well, this also looks a little suspicious. Perhaps?"
   ]
  },
  {
   "cell_type": "code",
   "execution_count": 15,
   "metadata": {},
   "outputs": [
    {
     "data": {
      "text/html": [
       "<div>\n",
       "<style scoped>\n",
       "    .dataframe tbody tr th:only-of-type {\n",
       "        vertical-align: middle;\n",
       "    }\n",
       "\n",
       "    .dataframe tbody tr th {\n",
       "        vertical-align: top;\n",
       "    }\n",
       "\n",
       "    .dataframe thead th {\n",
       "        text-align: right;\n",
       "    }\n",
       "</style>\n",
       "<table border=\"1\" class=\"dataframe\">\n",
       "  <thead>\n",
       "    <tr style=\"text-align: right;\">\n",
       "      <th></th>\n",
       "      <th>seats</th>\n",
       "      <th>kms_driven</th>\n",
       "      <th>mileage(kmpl)</th>\n",
       "      <th>engine(cc)</th>\n",
       "      <th>max_power(bhp)</th>\n",
       "      <th>torque(Nm)</th>\n",
       "      <th>price(in lakhs)</th>\n",
       "    </tr>\n",
       "  </thead>\n",
       "  <tbody>\n",
       "    <tr>\n",
       "      <th>675</th>\n",
       "      <td>5</td>\n",
       "      <td>790000</td>\n",
       "      <td>18.15</td>\n",
       "      <td>998.0</td>\n",
       "      <td>998.0</td>\n",
       "      <td>11835.0</td>\n",
       "      <td>9.75</td>\n",
       "    </tr>\n",
       "    <tr>\n",
       "      <th>709</th>\n",
       "      <td>5</td>\n",
       "      <td>810000</td>\n",
       "      <td>21.70</td>\n",
       "      <td>1498.0</td>\n",
       "      <td>1498.0</td>\n",
       "      <td>9896.0</td>\n",
       "      <td>9.00</td>\n",
       "    </tr>\n",
       "    <tr>\n",
       "      <th>941</th>\n",
       "      <td>7</td>\n",
       "      <td>176000</td>\n",
       "      <td>12.80</td>\n",
       "      <td>2494.0</td>\n",
       "      <td>2494.0</td>\n",
       "      <td>102.0</td>\n",
       "      <td>4.40</td>\n",
       "    </tr>\n",
       "    <tr>\n",
       "      <th>962</th>\n",
       "      <td>7</td>\n",
       "      <td>260000</td>\n",
       "      <td>12.80</td>\n",
       "      <td>2494.0</td>\n",
       "      <td>2494.0</td>\n",
       "      <td>102.0</td>\n",
       "      <td>6.25</td>\n",
       "    </tr>\n",
       "  </tbody>\n",
       "</table>\n",
       "</div>"
      ],
      "text/plain": [
       "     seats  kms_driven  mileage(kmpl)  engine(cc)  max_power(bhp)  torque(Nm)  \\\n",
       "675      5      790000          18.15       998.0           998.0     11835.0   \n",
       "709      5      810000          21.70      1498.0          1498.0      9896.0   \n",
       "941      7      176000          12.80      2494.0          2494.0       102.0   \n",
       "962      7      260000          12.80      2494.0          2494.0       102.0   \n",
       "\n",
       "     price(in lakhs)  \n",
       "675             9.75  \n",
       "709             9.00  \n",
       "941             4.40  \n",
       "962             6.25  "
      ]
     },
     "execution_count": 15,
     "metadata": {},
     "output_type": "execute_result"
    }
   ],
   "source": [
    "used_cars_df[used_cars_df['kms_driven']>150000]"
   ]
  },
  {
   "cell_type": "markdown",
   "metadata": {},
   "source": [
    "Ok, so there are only 6 cars that have droven over 150.000 kms. Let's remove them, since they deviate in too much in values from our other values, and thus much deteroriate the models performance.\n",
    "\n",
    "We can of course do this if we'd like, but let's think for a moment before doing so. What limitations are we putting on our model by removing these records?"
   ]
  },
  {
   "cell_type": "code",
   "execution_count": 43,
   "metadata": {},
   "outputs": [
    {
     "data": {
      "image/png": "[encoded data removed]",
      "text/plain": [
       "<Figure size 640x480 with 1 Axes>"
      ]
     },
     "metadata": {},
     "output_type": "display_data"
    }
   ],
   "source": [
    "used_cars_df = used_cars_df[used_cars_df['kms_driven']<150000].reset_index(drop=True)\n",
    "\n",
    "plt.hist(used_cars_df['kms_driven'], bins=50, color='green')\n",
    "\n",
    "plt.xlabel('kms_driven')\n",
    "plt.ylabel('count');"
   ]
  },
  {
   "cell_type": "markdown",
   "metadata": {},
   "source": [
    "Alright, looks like we have a good range "
   ]
  },
  {
   "cell_type": "markdown",
   "metadata": {},
   "source": [
    "---\n",
    "\n",
    "**Bonus task**\n",
    "\n",
    "\n",
    "Try to do some analysis (perhaps plots and calculating simple metrics such as min, max, mean, std etc.) on each of these remaining columns. Is there something in particular you find interesting? \n",
    "\n",
    "Can we do something about it? If you find any notable outliers, remove them for now.\n",
    "\n",
    "---"
   ]
  },
  {
   "cell_type": "code",
   "execution_count": 45,
   "metadata": {},
   "outputs": [
    {
     "data": {
      "text/html": [
       "<div>\n",
       "<style scoped>\n",
       "    .dataframe tbody tr th:only-of-type {\n",
       "        vertical-align: middle;\n",
       "    }\n",
       "\n",
       "    .dataframe tbody tr th {\n",
       "        vertical-align: top;\n",
       "    }\n",
       "\n",
       "    .dataframe thead th {\n",
       "        text-align: right;\n",
       "    }\n",
       "</style>\n",
       "<table border=\"1\" class=\"dataframe\">\n",
       "  <thead>\n",
       "    <tr style=\"text-align: right;\">\n",
       "      <th></th>\n",
       "      <th>seats</th>\n",
       "      <th>kms_driven</th>\n",
       "      <th>mileage(kmpl)</th>\n",
       "      <th>engine(cc)</th>\n",
       "      <th>max_power(bhp)</th>\n",
       "      <th>torque(Nm)</th>\n",
       "    </tr>\n",
       "  </thead>\n",
       "  <tbody>\n",
       "    <tr>\n",
       "      <th>0</th>\n",
       "      <td>5</td>\n",
       "      <td>30615</td>\n",
       "      <td>17.4</td>\n",
       "      <td>999.0</td>\n",
       "      <td>999.0</td>\n",
       "      <td>9863.0</td>\n",
       "    </tr>\n",
       "    <tr>\n",
       "      <th>1</th>\n",
       "      <td>5</td>\n",
       "      <td>42000</td>\n",
       "      <td>18.7</td>\n",
       "      <td>1199.0</td>\n",
       "      <td>1199.0</td>\n",
       "      <td>887.0</td>\n",
       "    </tr>\n",
       "    <tr>\n",
       "      <th>2</th>\n",
       "      <td>5</td>\n",
       "      <td>36739</td>\n",
       "      <td>18.9</td>\n",
       "      <td>1197.0</td>\n",
       "      <td>1197.0</td>\n",
       "      <td>8186.0</td>\n",
       "    </tr>\n",
       "    <tr>\n",
       "      <th>3</th>\n",
       "      <td>5</td>\n",
       "      <td>76000</td>\n",
       "      <td>15.8</td>\n",
       "      <td>1591.0</td>\n",
       "      <td>1591.0</td>\n",
       "      <td>1213.0</td>\n",
       "    </tr>\n",
       "    <tr>\n",
       "      <th>4</th>\n",
       "      <td>5</td>\n",
       "      <td>28783</td>\n",
       "      <td>17.0</td>\n",
       "      <td>1198.0</td>\n",
       "      <td>1198.0</td>\n",
       "      <td>1085.0</td>\n",
       "    </tr>\n",
       "  </tbody>\n",
       "</table>\n",
       "</div>"
      ],
      "text/plain": [
       "   seats  kms_driven  mileage(kmpl)  engine(cc)  max_power(bhp)  torque(Nm)\n",
       "0      5       30615           17.4       999.0           999.0      9863.0\n",
       "1      5       42000           18.7      1199.0          1199.0       887.0\n",
       "2      5       36739           18.9      1197.0          1197.0      8186.0\n",
       "3      5       76000           15.8      1591.0          1591.0      1213.0\n",
       "4      5       28783           17.0      1198.0          1198.0      1085.0"
      ]
     },
     "execution_count": 45,
     "metadata": {},
     "output_type": "execute_result"
    }
   ],
   "source": [
    "features = used_cars_df.iloc[:, :-1]\n",
    "features.head()"
   ]
  },
  {
   "cell_type": "code",
   "execution_count": 78,
   "metadata": {},
   "outputs": [
    {
     "data": {
      "image/png": "[encoded data removed]",
      "text/plain": [
       "<Figure size 1200x900 with 9 Axes>"
      ]
     },
     "metadata": {},
     "output_type": "display_data"
    }
   ],
   "source": [
    "num_plots = len(used_cars_df.columns)\n",
    "num_cols = 3\n",
    "num_rows = int((num_plots - 1)/num_cols) + 1\n",
    "fig_lu = 4\n",
    "w2h_ratio = 3/4\n",
    "\n",
    "fig, axs = plt.subplots(num_rows, num_cols, gridspec_kw={\"wspace\": 0.4, \"hspace\": 0.4})\n",
    "fig.set(size_inches=[num_cols*fig_lu, num_rows*fig_lu*w2h_ratio])\n",
    "\n",
    "for i, feat in enumerate(used_cars_df.columns):\n",
    "    ax: plt.Axes = axs[i//num_cols, i%num_cols]\n",
    "    ax.hist(used_cars_df[feat], bins=20)\n",
    "    ax.set(xlabel=feat, ylabel=\"amount\")\n",
    "\n",
    "plt.show()"
   ]
  },
  {
   "cell_type": "code",
   "execution_count": 80,
   "metadata": {},
   "outputs": [
    {
     "data": {
      "text/html": [
       "<div>\n",
       "<style scoped>\n",
       "    .dataframe tbody tr th:only-of-type {\n",
       "        vertical-align: middle;\n",
       "    }\n",
       "\n",
       "    .dataframe tbody tr th {\n",
       "        vertical-align: top;\n",
       "    }\n",
       "\n",
       "    .dataframe thead th {\n",
       "        text-align: right;\n",
       "    }\n",
       "</style>\n",
       "<table border=\"1\" class=\"dataframe\">\n",
       "  <thead>\n",
       "    <tr style=\"text-align: right;\">\n",
       "      <th></th>\n",
       "      <th>seats</th>\n",
       "      <th>kms_driven</th>\n",
       "      <th>mileage(kmpl)</th>\n",
       "      <th>engine(cc)</th>\n",
       "      <th>max_power(bhp)</th>\n",
       "      <th>torque(Nm)</th>\n",
       "      <th>price(in lakhs)</th>\n",
       "    </tr>\n",
       "  </thead>\n",
       "  <tbody>\n",
       "    <tr>\n",
       "      <th>824</th>\n",
       "      <td>5</td>\n",
       "      <td>5700</td>\n",
       "      <td>2995.0</td>\n",
       "      <td>340.0</td>\n",
       "      <td>340.0</td>\n",
       "      <td>450.0</td>\n",
       "      <td>1.05</td>\n",
       "    </tr>\n",
       "    <tr>\n",
       "      <th>831</th>\n",
       "      <td>5</td>\n",
       "      <td>25000</td>\n",
       "      <td>3996.0</td>\n",
       "      <td>641.0</td>\n",
       "      <td>641.0</td>\n",
       "      <td>850.0</td>\n",
       "      <td>3.60</td>\n",
       "    </tr>\n",
       "  </tbody>\n",
       "</table>\n",
       "</div>"
      ],
      "text/plain": [
       "     seats  kms_driven  mileage(kmpl)  engine(cc)  max_power(bhp)  torque(Nm)  \\\n",
       "824      5        5700         2995.0       340.0           340.0       450.0   \n",
       "831      5       25000         3996.0       641.0           641.0       850.0   \n",
       "\n",
       "     price(in lakhs)  \n",
       "824             1.05  \n",
       "831             3.60  "
      ]
     },
     "execution_count": 80,
     "metadata": {},
     "output_type": "execute_result"
    }
   ],
   "source": [
    "used_cars_df[used_cars_df[\"mileage(kmpl)\"] >= 2000]"
   ]
  },
  {
   "cell_type": "code",
   "execution_count": 77,
   "metadata": {},
   "outputs": [],
   "source": [
    "used_cars_df = used_cars_df[used_cars_df[\"torque(Nm)\"] < 10**5].reset_index(drop=True)"
   ]
  },
  {
   "cell_type": "markdown",
   "metadata": {},
   "source": [
    "## Linear Regression"
   ]
  },
  {
   "cell_type": "markdown",
   "metadata": {},
   "source": [
    "We'll begin our model fitting by limiting ourselves to a single feature.\n",
    "\n",
    "We'll try to predict car prices using km_driven as the sole feature, for now. \n",
    "\n",
    "Note that this is obviously very limiting, but we do it for pedagocical reasons in order to both get used to the sk-learn package, and to learn an important lesson...\n",
    "\n",
    "In other words, we'll now assume that we can model\n",
    "\n",
    "$$ price = w_1 \\cdot (kms\\ driven) + w_0"
   ]
  },
  {
   "cell_type": "code",
   "execution_count": 81,
   "metadata": {},
   "outputs": [],
   "source": [
    "X, y = used_cars_df['kms_driven'].values, used_cars_df['price(in lakhs)'].values"
   ]
  },
  {
   "cell_type": "code",
   "execution_count": 82,
   "metadata": {},
   "outputs": [
    {
     "data": {
      "image/png": "[encoded data removed]",
      "text/plain": [
       "<Figure size 640x480 with 1 Axes>"
      ]
     },
     "metadata": {},
     "output_type": "display_data"
    }
   ],
   "source": [
    "plt.scatter(X, y)\n",
    "plt.xlabel('kms_driven');\n",
    "plt.ylabel('price(in lakhs)');\n",
    "\n",
    "#plt.ylim()"
   ]
  },
  {
   "cell_type": "markdown",
   "metadata": {},
   "source": [
    "Train/test split"
   ]
  },
  {
   "cell_type": "code",
   "execution_count": 84,
   "metadata": {},
   "outputs": [
    {
     "name": "stdout",
     "output_type": "stream",
     "text": [
      "Train set:\n",
      "X: 820\n",
      "y: 820\n",
      "\n",
      "Test set:\n",
      "X: 206\n",
      "y: 206\n"
     ]
    }
   ],
   "source": [
    "from sklearn.model_selection import train_test_split\n",
    "\n",
    "X_train, X_test, y_train, y_test = train_test_split(X, y, test_size=0.2, random_state=42) # set a random state, so we can reproduce our results\n",
    "\n",
    "print('Train set:')\n",
    "print('X:', len(X_train))\n",
    "print('y:', len(y_train), end='\\n\\n')\n",
    "\n",
    "print('Test set:')\n",
    "print('X:', len(X_test))\n",
    "print('y:', len(y_test))"
   ]
  },
  {
   "cell_type": "code",
   "execution_count": 85,
   "metadata": {},
   "outputs": [
    {
     "data": {
      "image/png": "[encoded data removed]",
      "text/plain": [
       "<Figure size 640x480 with 1 Axes>"
      ]
     },
     "metadata": {},
     "output_type": "display_data"
    }
   ],
   "source": [
    "plt.scatter(X_train, y_train, label = 'train')\n",
    "plt.scatter(X_test, y_test, label = 'test')\n",
    "\n",
    "plt.xlabel('kms_driven');\n",
    "plt.ylabel('price(in lakhs)');\n",
    "\n",
    "plt.legend();"
   ]
  },
  {
   "cell_type": "code",
   "execution_count": 87,
   "metadata": {},
   "outputs": [],
   "source": [
    "# import a linear regression model and the MSE-metric from sklearn\n",
    "\n",
    "from sklearn.linear_model import LinearRegression\n",
    "from sklearn.metrics import mean_squared_error"
   ]
  },
  {
   "cell_type": "code",
   "execution_count": 88,
   "metadata": {},
   "outputs": [],
   "source": [
    "# this initialized a linear regression model. It has not trained on anything yet\n",
    "\n",
    "linear_regression_model = LinearRegression()"
   ]
  },
  {
   "cell_type": "markdown",
   "metadata": {},
   "source": [
    "These models require a 2D-input, but our current data is 1D"
   ]
  },
  {
   "cell_type": "code",
   "execution_count": 89,
   "metadata": {},
   "outputs": [
    {
     "name": "stdout",
     "output_type": "stream",
     "text": [
      "(820,)\n",
      "(820,)\n"
     ]
    }
   ],
   "source": [
    "print(X_train.shape)\n",
    "print(y_train.shape)"
   ]
  },
  {
   "cell_type": "markdown",
   "metadata": {},
   "source": [
    "We can mitigate this using the .reshape method"
   ]
  },
  {
   "cell_type": "code",
   "execution_count": 90,
   "metadata": {},
   "outputs": [
    {
     "name": "stdout",
     "output_type": "stream",
     "text": [
      "(820, 1)\n",
      "(820, 1)\n"
     ]
    }
   ],
   "source": [
    "X_train = X_train.reshape(len(X_train), 1)\n",
    "y_train = y_train.reshape(len(y_train), 1)\n",
    "\n",
    "print(X_train.shape)\n",
    "print(y_train.shape)"
   ]
  },
  {
   "cell_type": "markdown",
   "metadata": {},
   "source": [
    "Note that we can pass in a -1 in the .reshape method aswell, it then automatically tries to infer the dimension given your data"
   ]
  },
  {
   "cell_type": "code",
   "execution_count": 91,
   "metadata": {},
   "outputs": [
    {
     "name": "stdout",
     "output_type": "stream",
     "text": [
      "(206, 1)\n",
      "(206, 1)\n"
     ]
    }
   ],
   "source": [
    "X_test = X_test.reshape(-1, 1)\n",
    "y_test = y_test.reshape(-1, 1)\n",
    "\n",
    "print(X_test.shape)\n",
    "print(y_test.shape)"
   ]
  },
  {
   "cell_type": "markdown",
   "metadata": {},
   "source": [
    "Let's train!"
   ]
  },
  {
   "cell_type": "code",
   "execution_count": 92,
   "metadata": {},
   "outputs": [],
   "source": [
    "linear_regression_model.fit(X_train, y_train);"
   ]
  },
  {
   "cell_type": "code",
   "execution_count": 93,
   "metadata": {},
   "outputs": [
    {
     "data": {
      "text/plain": [
       "array([6.49953661])"
      ]
     },
     "execution_count": 93,
     "metadata": {},
     "output_type": "execute_result"
    }
   ],
   "source": [
    "linear_regression_model.intercept_"
   ]
  },
  {
   "cell_type": "code",
   "execution_count": 94,
   "metadata": {},
   "outputs": [
    {
     "data": {
      "text/plain": [
       "array([[-1.20910067e-05]])"
      ]
     },
     "execution_count": 94,
     "metadata": {},
     "output_type": "execute_result"
    }
   ],
   "source": [
    "linear_regression_model.coef_"
   ]
  },
  {
   "cell_type": "code",
   "execution_count": 95,
   "metadata": {},
   "outputs": [],
   "source": [
    "y_train_hat = linear_regression_model.predict(X_train)\n",
    "y_test_hat = linear_regression_model.predict(X_test)"
   ]
  },
  {
   "cell_type": "code",
   "execution_count": 96,
   "metadata": {},
   "outputs": [
    {
     "name": "stdout",
     "output_type": "stream",
     "text": [
      "6.254464371648534\n",
      "2.5008927149417133\n"
     ]
    }
   ],
   "source": [
    "# beräkna loss på train set\n",
    "\n",
    "print(mean_squared_error(y_train, y_train_hat))\n",
    "\n",
    "print(np.sqrt(mean_squared_error(y_train, y_train_hat)))"
   ]
  },
  {
   "cell_type": "code",
   "execution_count": 97,
   "metadata": {},
   "outputs": [
    {
     "name": "stdout",
     "output_type": "stream",
     "text": [
      "5.266733683526565\n",
      "2.2949365314811137\n"
     ]
    }
   ],
   "source": [
    "# beräkna loss på test set\n",
    "\n",
    "print(mean_squared_error(y_test, y_test_hat))\n",
    "\n",
    "print(np.sqrt(mean_squared_error(y_test, y_test_hat)))"
   ]
  },
  {
   "cell_type": "code",
   "execution_count": 98,
   "metadata": {},
   "outputs": [
    {
     "data": {
      "image/png": "[encoded data removed]",
      "text/plain": [
       "<Figure size 640x480 with 1 Axes>"
      ]
     },
     "metadata": {},
     "output_type": "display_data"
    }
   ],
   "source": [
    "plt.scatter(X_test, y_test)\n",
    "plt.plot(X_test, y_test_hat)\n",
    "\n",
    "plt.xlabel('kms_driven');\n",
    "plt.ylabel('price(in lakhs)');\n",
    "plt.title('Test data performance analysis');"
   ]
  },
  {
   "cell_type": "markdown",
   "metadata": {},
   "source": [
    "Is the above result any good? Can you draw any conclusions?\n",
    "\n",
    "If we really insisted, for some reason, on fitting a straight line to our data - what would be the correct course of action?"
   ]
  },
  {
   "cell_type": "markdown",
   "metadata": {},
   "source": [
    "**Polynomial regression**\n",
    "\n",
    "If we for some reason believe that a single feature in itself is not good enough, and that we might need powers of that feature, we can try to fit a polynomial model instead."
   ]
  },
  {
   "cell_type": "code",
   "execution_count": 99,
   "metadata": {},
   "outputs": [
    {
     "data": {
      "text/plain": [
       "(820, 1)"
      ]
     },
     "execution_count": 99,
     "metadata": {},
     "output_type": "execute_result"
    }
   ],
   "source": [
    "X_train.shape"
   ]
  },
  {
   "cell_type": "code",
   "execution_count": 100,
   "metadata": {},
   "outputs": [],
   "source": [
    "from sklearn.preprocessing import PolynomialFeatures\n",
    "\n",
    "# assume that we want to create features for polynomial of degree two\n",
    "\n",
    "poly_transform = PolynomialFeatures(degree=2, include_bias=False) # this initializes our transformer\n",
    "\n",
    "X_train_polynomial = poly_transform.fit_transform(X_train)\n",
    "\n",
    "X_test_polynomial = poly_transform.transform(X_test)           # not that we do NOT fit on the test set, only transform it. More on this later.\n",
    "\n"
   ]
  },
  {
   "cell_type": "markdown",
   "metadata": {},
   "source": [
    "What we now have created are powers of our feature km_driven.\n",
    "\n",
    "In other words, we now have two columns where each are\n",
    "\n",
    "$km\\ driven, (km\\  driven)^2$"
   ]
  },
  {
   "cell_type": "code",
   "execution_count": 101,
   "metadata": {},
   "outputs": [
    {
     "data": {
      "text/plain": [
       "array([[5.99650000e+04, 3.59580122e+09],\n",
       "       [7.76840000e+04, 6.03480386e+09],\n",
       "       [4.22610000e+04, 1.78599212e+09],\n",
       "       ...,\n",
       "       [6.10000000e+04, 3.72100000e+09],\n",
       "       [7.02150000e+04, 4.93014622e+09],\n",
       "       [4.42750000e+04, 1.96027562e+09]], shape=(820, 2))"
      ]
     },
     "execution_count": 101,
     "metadata": {},
     "output_type": "execute_result"
    }
   ],
   "source": [
    "X_train_polynomial"
   ]
  },
  {
   "cell_type": "markdown",
   "metadata": {},
   "source": [
    "We can now use these as features for our linear regression model we imported earlier (which supports multiple features).\n",
    "\n",
    "This would allow to model\n",
    "\n",
    "$$ price = w_2 \\cdot (km\\ driven)^2 + w_1 \\cdot (km\\ driven) + w_0 $$"
   ]
  },
  {
   "cell_type": "code",
   "execution_count": 103,
   "metadata": {},
   "outputs": [
    {
     "data": {
      "text/html": [
       "<style>#sk-container-id-3 {\n",
       "  /* Definition of color scheme common for light and dark mode */\n",
       "  --sklearn-color-text: #000;\n",
       "  --sklearn-color-text-muted: #666;\n",
       "  --sklearn-color-line: gray;\n",
       "  /* Definition of color scheme for unfitted estimators */\n",
       "  --sklearn-color-unfitted-level-0: #fff5e6;\n",
       "  --sklearn-color-unfitted-level-1: #f6e4d2;\n",
       "  --sklearn-color-unfitted-level-2: #ffe0b3;\n",
       "  --sklearn-color-unfitted-level-3: chocolate;\n",
       "  /* Definition of color scheme for fitted estimators */\n",
       "  --sklearn-color-fitted-level-0: #f0f8ff;\n",
       "  --sklearn-color-fitted-level-1: #d4ebff;\n",
       "  --sklearn-color-fitted-level-2: #b3dbfd;\n",
       "  --sklearn-color-fitted-level-3: cornflowerblue;\n",
       "\n",
       "  /* Specific color for light theme */\n",
       "  --sklearn-color-text-on-default-background: var(--sg-text-color, var(--theme-code-foreground, var(--jp-content-font-color1, black)));\n",
       "  --sklearn-color-background: var(--sg-background-color, var(--theme-background, var(--jp-layout-color0, white)));\n",
       "  --sklearn-color-border-box: var(--sg-text-color, var(--theme-code-foreground, var(--jp-content-font-color1, black)));\n",
       "  --sklearn-color-icon: #696969;\n",
       "\n",
       "  @media (prefers-color-scheme: dark) {\n",
       "    /* Redefinition of color scheme for dark theme */\n",
       "    --sklearn-color-text-on-default-background: var(--sg-text-color, var(--theme-code-foreground, var(--jp-content-font-color1, white)));\n",
       "    --sklearn-color-background: var(--sg-background-color, var(--theme-background, var(--jp-layout-color0, #111)));\n",
       "    --sklearn-color-border-box: var(--sg-text-color, var(--theme-code-foreground, var(--jp-content-font-color1, white)));\n",
       "    --sklearn-color-icon: #878787;\n",
       "  }\n",
       "}\n",
       "\n",
       "#sk-container-id-3 {\n",
       "  color: var(--sklearn-color-text);\n",
       "}\n",
       "\n",
       "#sk-container-id-3 pre {\n",
       "  padding: 0;\n",
       "}\n",
       "\n",
       "#sk-container-id-3 input.sk-hidden--visually {\n",
       "  border: 0;\n",
       "  clip: rect(1px 1px 1px 1px);\n",
       "  clip: rect(1px, 1px, 1px, 1px);\n",
       "  height: 1px;\n",
       "  margin: -1px;\n",
       "  overflow: hidden;\n",
       "  padding: 0;\n",
       "  position: absolute;\n",
       "  width: 1px;\n",
       "}\n",
       "\n",
       "#sk-container-id-3 div.sk-dashed-wrapped {\n",
       "  border: 1px dashed var(--sklearn-color-line);\n",
       "  margin: 0 0.4em 0.5em 0.4em;\n",
       "  box-sizing: border-box;\n",
       "  padding-bottom: 0.4em;\n",
       "  background-color: var(--sklearn-color-background);\n",
       "}\n",
       "\n",
       "#sk-container-id-3 div.sk-container {\n",
       "  /* jupyter's `normalize.less` sets `[hidden] { display: none; }`\n",
       "     but bootstrap.min.css set `[hidden] { display: none !important; }`\n",
       "     so we also need the `!important` here to be able to override the\n",
       "     default hidden behavior on the sphinx rendered scikit-learn.org.\n",
       "     See: https://github.com/scikit-learn/scikit-learn/issues/21755 */\n",
       "  display: inline-block !important;\n",
       "  position: relative;\n",
       "}\n",
       "\n",
       "#sk-container-id-3 div.sk-text-repr-fallback {\n",
       "  display: none;\n",
       "}\n",
       "\n",
       "div.sk-parallel-item,\n",
       "div.sk-serial,\n",
       "div.sk-item {\n",
       "  /* draw centered vertical line to link estimators */\n",
       "  background-image: linear-gradient(var(--sklearn-color-text-on-default-background), var(--sklearn-color-text-on-default-background));\n",
       "  background-size: 2px 100%;\n",
       "  background-repeat: no-repeat;\n",
       "  background-position: center center;\n",
       "}\n",
       "\n",
       "/* Parallel-specific style estimator block */\n",
       "\n",
       "#sk-container-id-3 div.sk-parallel-item::after {\n",
       "  content: \"\";\n",
       "  width: 100%;\n",
       "  border-bottom: 2px solid var(--sklearn-color-text-on-default-background);\n",
       "  flex-grow: 1;\n",
       "}\n",
       "\n",
       "#sk-container-id-3 div.sk-parallel {\n",
       "  display: flex;\n",
       "  align-items: stretch;\n",
       "  justify-content: center;\n",
       "  background-color: var(--sklearn-color-background);\n",
       "  position: relative;\n",
       "}\n",
       "\n",
       "#sk-container-id-3 div.sk-parallel-item {\n",
       "  display: flex;\n",
       "  flex-direction: column;\n",
       "}\n",
       "\n",
       "#sk-container-id-3 div.sk-parallel-item:first-child::after {\n",
       "  align-self: flex-end;\n",
       "  width: 50%;\n",
       "}\n",
       "\n",
       "#sk-container-id-3 div.sk-parallel-item:last-child::after {\n",
       "  align-self: flex-start;\n",
       "  width: 50%;\n",
       "}\n",
       "\n",
       "#sk-container-id-3 div.sk-parallel-item:only-child::after {\n",
       "  width: 0;\n",
       "}\n",
       "\n",
       "/* Serial-specific style estimator block */\n",
       "\n",
       "#sk-container-id-3 div.sk-serial {\n",
       "  display: flex;\n",
       "  flex-direction: column;\n",
       "  align-items: center;\n",
       "  background-color: var(--sklearn-color-background);\n",
       "  padding-right: 1em;\n",
       "  padding-left: 1em;\n",
       "}\n",
       "\n",
       "\n",
       "/* Toggleable style: style used for estimator/Pipeline/ColumnTransformer box that is\n",
       "clickable and can be expanded/collapsed.\n",
       "- Pipeline and ColumnTransformer use this feature and define the default style\n",
       "- Estimators will overwrite some part of the style using the `sk-estimator` class\n",
       "*/\n",
       "\n",
       "/* Pipeline and ColumnTransformer style (default) */\n",
       "\n",
       "#sk-container-id-3 div.sk-toggleable {\n",
       "  /* Default theme specific background. It is overwritten whether we have a\n",
       "  specific estimator or a Pipeline/ColumnTransformer */\n",
       "  background-color: var(--sklearn-color-background);\n",
       "}\n",
       "\n",
       "/* Toggleable label */\n",
       "#sk-container-id-3 label.sk-toggleable__label {\n",
       "  cursor: pointer;\n",
       "  display: flex;\n",
       "  width: 100%;\n",
       "  margin-bottom: 0;\n",
       "  padding: 0.5em;\n",
       "  box-sizing: border-box;\n",
       "  text-align: center;\n",
       "  align-items: start;\n",
       "  justify-content: space-between;\n",
       "  gap: 0.5em;\n",
       "}\n",
       "\n",
       "#sk-container-id-3 label.sk-toggleable__label .caption {\n",
       "  font-size: 0.6rem;\n",
       "  font-weight: lighter;\n",
       "  color: var(--sklearn-color-text-muted);\n",
       "}\n",
       "\n",
       "#sk-container-id-3 label.sk-toggleable__label-arrow:before {\n",
       "  /* Arrow on the left of the label */\n",
       "  content: \"▸\";\n",
       "  float: left;\n",
       "  margin-right: 0.25em;\n",
       "  color: var(--sklearn-color-icon);\n",
       "}\n",
       "\n",
       "#sk-container-id-3 label.sk-toggleable__label-arrow:hover:before {\n",
       "  color: var(--sklearn-color-text);\n",
       "}\n",
       "\n",
       "/* Toggleable content - dropdown */\n",
       "\n",
       "#sk-container-id-3 div.sk-toggleable__content {\n",
       "  max-height: 0;\n",
       "  max-width: 0;\n",
       "  overflow: hidden;\n",
       "  text-align: left;\n",
       "  /* unfitted */\n",
       "  background-color: var(--sklearn-color-unfitted-level-0);\n",
       "}\n",
       "\n",
       "#sk-container-id-3 div.sk-toggleable__content.fitted {\n",
       "  /* fitted */\n",
       "  background-color: var(--sklearn-color-fitted-level-0);\n",
       "}\n",
       "\n",
       "#sk-container-id-3 div.sk-toggleable__content pre {\n",
       "  margin: 0.2em;\n",
       "  border-radius: 0.25em;\n",
       "  color: var(--sklearn-color-text);\n",
       "  /* unfitted */\n",
       "  background-color: var(--sklearn-color-unfitted-level-0);\n",
       "}\n",
       "\n",
       "#sk-container-id-3 div.sk-toggleable__content.fitted pre {\n",
       "  /* unfitted */\n",
       "  background-color: var(--sklearn-color-fitted-level-0);\n",
       "}\n",
       "\n",
       "#sk-container-id-3 input.sk-toggleable__control:checked~div.sk-toggleable__content {\n",
       "  /* Expand drop-down */\n",
       "  max-height: 200px;\n",
       "  max-width: 100%;\n",
       "  overflow: auto;\n",
       "}\n",
       "\n",
       "#sk-container-id-3 input.sk-toggleable__control:checked~label.sk-toggleable__label-arrow:before {\n",
       "  content: \"▾\";\n",
       "}\n",
       "\n",
       "/* Pipeline/ColumnTransformer-specific style */\n",
       "\n",
       "#sk-container-id-3 div.sk-label input.sk-toggleable__control:checked~label.sk-toggleable__label {\n",
       "  color: var(--sklearn-color-text);\n",
       "  background-color: var(--sklearn-color-unfitted-level-2);\n",
       "}\n",
       "\n",
       "#sk-container-id-3 div.sk-label.fitted input.sk-toggleable__control:checked~label.sk-toggleable__label {\n",
       "  background-color: var(--sklearn-color-fitted-level-2);\n",
       "}\n",
       "\n",
       "/* Estimator-specific style */\n",
       "\n",
       "/* Colorize estimator box */\n",
       "#sk-container-id-3 div.sk-estimator input.sk-toggleable__control:checked~label.sk-toggleable__label {\n",
       "  /* unfitted */\n",
       "  background-color: var(--sklearn-color-unfitted-level-2);\n",
       "}\n",
       "\n",
       "#sk-container-id-3 div.sk-estimator.fitted input.sk-toggleable__control:checked~label.sk-toggleable__label {\n",
       "  /* fitted */\n",
       "  background-color: var(--sklearn-color-fitted-level-2);\n",
       "}\n",
       "\n",
       "#sk-container-id-3 div.sk-label label.sk-toggleable__label,\n",
       "#sk-container-id-3 div.sk-label label {\n",
       "  /* The background is the default theme color */\n",
       "  color: var(--sklearn-color-text-on-default-background);\n",
       "}\n",
       "\n",
       "/* On hover, darken the color of the background */\n",
       "#sk-container-id-3 div.sk-label:hover label.sk-toggleable__label {\n",
       "  color: var(--sklearn-color-text);\n",
       "  background-color: var(--sklearn-color-unfitted-level-2);\n",
       "}\n",
       "\n",
       "/* Label box, darken color on hover, fitted */\n",
       "#sk-container-id-3 div.sk-label.fitted:hover label.sk-toggleable__label.fitted {\n",
       "  color: var(--sklearn-color-text);\n",
       "  background-color: var(--sklearn-color-fitted-level-2);\n",
       "}\n",
       "\n",
       "/* Estimator label */\n",
       "\n",
       "#sk-container-id-3 div.sk-label label {\n",
       "  font-family: monospace;\n",
       "  font-weight: bold;\n",
       "  display: inline-block;\n",
       "  line-height: 1.2em;\n",
       "}\n",
       "\n",
       "#sk-container-id-3 div.sk-label-container {\n",
       "  text-align: center;\n",
       "}\n",
       "\n",
       "/* Estimator-specific */\n",
       "#sk-container-id-3 div.sk-estimator {\n",
       "  font-family: monospace;\n",
       "  border: 1px dotted var(--sklearn-color-border-box);\n",
       "  border-radius: 0.25em;\n",
       "  box-sizing: border-box;\n",
       "  margin-bottom: 0.5em;\n",
       "  /* unfitted */\n",
       "  background-color: var(--sklearn-color-unfitted-level-0);\n",
       "}\n",
       "\n",
       "#sk-container-id-3 div.sk-estimator.fitted {\n",
       "  /* fitted */\n",
       "  background-color: var(--sklearn-color-fitted-level-0);\n",
       "}\n",
       "\n",
       "/* on hover */\n",
       "#sk-container-id-3 div.sk-estimator:hover {\n",
       "  /* unfitted */\n",
       "  background-color: var(--sklearn-color-unfitted-level-2);\n",
       "}\n",
       "\n",
       "#sk-container-id-3 div.sk-estimator.fitted:hover {\n",
       "  /* fitted */\n",
       "  background-color: var(--sklearn-color-fitted-level-2);\n",
       "}\n",
       "\n",
       "/* Specification for estimator info (e.g. \"i\" and \"?\") */\n",
       "\n",
       "/* Common style for \"i\" and \"?\" */\n",
       "\n",
       ".sk-estimator-doc-link,\n",
       "a:link.sk-estimator-doc-link,\n",
       "a:visited.sk-estimator-doc-link {\n",
       "  float: right;\n",
       "  font-size: smaller;\n",
       "  line-height: 1em;\n",
       "  font-family: monospace;\n",
       "  background-color: var(--sklearn-color-background);\n",
       "  border-radius: 1em;\n",
       "  height: 1em;\n",
       "  width: 1em;\n",
       "  text-decoration: none !important;\n",
       "  margin-left: 0.5em;\n",
       "  text-align: center;\n",
       "  /* unfitted */\n",
       "  border: var(--sklearn-color-unfitted-level-1) 1pt solid;\n",
       "  color: var(--sklearn-color-unfitted-level-1);\n",
       "}\n",
       "\n",
       ".sk-estimator-doc-link.fitted,\n",
       "a:link.sk-estimator-doc-link.fitted,\n",
       "a:visited.sk-estimator-doc-link.fitted {\n",
       "  /* fitted */\n",
       "  border: var(--sklearn-color-fitted-level-1) 1pt solid;\n",
       "  color: var(--sklearn-color-fitted-level-1);\n",
       "}\n",
       "\n",
       "/* On hover */\n",
       "div.sk-estimator:hover .sk-estimator-doc-link:hover,\n",
       ".sk-estimator-doc-link:hover,\n",
       "div.sk-label-container:hover .sk-estimator-doc-link:hover,\n",
       ".sk-estimator-doc-link:hover {\n",
       "  /* unfitted */\n",
       "  background-color: var(--sklearn-color-unfitted-level-3);\n",
       "  color: var(--sklearn-color-background);\n",
       "  text-decoration: none;\n",
       "}\n",
       "\n",
       "div.sk-estimator.fitted:hover .sk-estimator-doc-link.fitted:hover,\n",
       ".sk-estimator-doc-link.fitted:hover,\n",
       "div.sk-label-container:hover .sk-estimator-doc-link.fitted:hover,\n",
       ".sk-estimator-doc-link.fitted:hover {\n",
       "  /* fitted */\n",
       "  background-color: var(--sklearn-color-fitted-level-3);\n",
       "  color: var(--sklearn-color-background);\n",
       "  text-decoration: none;\n",
       "}\n",
       "\n",
       "/* Span, style for the box shown on hovering the info icon */\n",
       ".sk-estimator-doc-link span {\n",
       "  display: none;\n",
       "  z-index: 9999;\n",
       "  position: relative;\n",
       "  font-weight: normal;\n",
       "  right: .2ex;\n",
       "  padding: .5ex;\n",
       "  margin: .5ex;\n",
       "  width: min-content;\n",
       "  min-width: 20ex;\n",
       "  max-width: 50ex;\n",
       "  color: var(--sklearn-color-text);\n",
       "  box-shadow: 2pt 2pt 4pt #999;\n",
       "  /* unfitted */\n",
       "  background: var(--sklearn-color-unfitted-level-0);\n",
       "  border: .5pt solid var(--sklearn-color-unfitted-level-3);\n",
       "}\n",
       "\n",
       ".sk-estimator-doc-link.fitted span {\n",
       "  /* fitted */\n",
       "  background: var(--sklearn-color-fitted-level-0);\n",
       "  border: var(--sklearn-color-fitted-level-3);\n",
       "}\n",
       "\n",
       ".sk-estimator-doc-link:hover span {\n",
       "  display: block;\n",
       "}\n",
       "\n",
       "/* \"?\"-specific style due to the `<a>` HTML tag */\n",
       "\n",
       "#sk-container-id-3 a.estimator_doc_link {\n",
       "  float: right;\n",
       "  font-size: 1rem;\n",
       "  line-height: 1em;\n",
       "  font-family: monospace;\n",
       "  background-color: var(--sklearn-color-background);\n",
       "  border-radius: 1rem;\n",
       "  height: 1rem;\n",
       "  width: 1rem;\n",
       "  text-decoration: none;\n",
       "  /* unfitted */\n",
       "  color: var(--sklearn-color-unfitted-level-1);\n",
       "  border: var(--sklearn-color-unfitted-level-1) 1pt solid;\n",
       "}\n",
       "\n",
       "#sk-container-id-3 a.estimator_doc_link.fitted {\n",
       "  /* fitted */\n",
       "  border: var(--sklearn-color-fitted-level-1) 1pt solid;\n",
       "  color: var(--sklearn-color-fitted-level-1);\n",
       "}\n",
       "\n",
       "/* On hover */\n",
       "#sk-container-id-3 a.estimator_doc_link:hover {\n",
       "  /* unfitted */\n",
       "  background-color: var(--sklearn-color-unfitted-level-3);\n",
       "  color: var(--sklearn-color-background);\n",
       "  text-decoration: none;\n",
       "}\n",
       "\n",
       "#sk-container-id-3 a.estimator_doc_link.fitted:hover {\n",
       "  /* fitted */\n",
       "  background-color: var(--sklearn-color-fitted-level-3);\n",
       "}\n",
       "</style><div id=\"sk-container-id-3\" class=\"sk-top-container\"><div class=\"sk-text-repr-fallback\"><pre>LinearRegression()</pre><b>In a Jupyter environment, please rerun this cell to show the HTML representation or trust the notebook. <br />On GitHub, the HTML representation is unable to render, please try loading this page with nbviewer.org.</b></div><div class=\"sk-container\" hidden><div class=\"sk-item\"><div class=\"sk-estimator fitted sk-toggleable\"><input class=\"sk-toggleable__control sk-hidden--visually\" id=\"sk-estimator-id-3\" type=\"checkbox\" checked><label for=\"sk-estimator-id-3\" class=\"sk-toggleable__label fitted sk-toggleable__label-arrow\"><div><div>LinearRegression</div></div><div><a class=\"sk-estimator-doc-link fitted\" rel=\"noreferrer\" target=\"_blank\" href=\"https://scikit-learn.org/1.6/modules/generated/sklearn.linear_model.LinearRegression.html\">?<span>Documentation for LinearRegression</span></a><span class=\"sk-estimator-doc-link fitted\">i<span>Fitted</span></span></div></label><div class=\"sk-toggleable__content fitted\"><pre>LinearRegression()</pre></div> </div></div></div></div>"
      ],
      "text/plain": [
       "LinearRegression()"
      ]
     },
     "execution_count": 103,
     "metadata": {},
     "output_type": "execute_result"
    }
   ],
   "source": [
    "# initialize and fit the model\n",
    "\n",
    "polynomial_regression_degree_2_model = LinearRegression()      # NOTERA ATT DEN HÄR KLARAR AV BÅDE EN ELLER FLERA FEATURES\n",
    "\n",
    "polynomial_regression_degree_2_model.fit(X_train_polynomial, y_train)"
   ]
  },
  {
   "cell_type": "code",
   "execution_count": 104,
   "metadata": {},
   "outputs": [
    {
     "data": {
      "text/plain": [
       "array([7.09653444])"
      ]
     },
     "execution_count": 104,
     "metadata": {},
     "output_type": "execute_result"
    }
   ],
   "source": [
    "polynomial_regression_degree_2_model.intercept_"
   ]
  },
  {
   "cell_type": "code",
   "execution_count": 105,
   "metadata": {},
   "outputs": [
    {
     "data": {
      "text/plain": [
       "array([[-3.66651190e-05,  1.98264509e-10]])"
      ]
     },
     "execution_count": 105,
     "metadata": {},
     "output_type": "execute_result"
    }
   ],
   "source": [
    "polynomial_regression_degree_2_model.coef_"
   ]
  },
  {
   "cell_type": "code",
   "execution_count": 106,
   "metadata": {},
   "outputs": [
    {
     "name": "stdout",
     "output_type": "stream",
     "text": [
      "Train MSE: 6.211577518718873\n",
      "Test MSE: 5.2566503643381255\n",
      "Train RMSE: 2.4923036570046744\n",
      "Test RMSE: 2.2927386166630783\n"
     ]
    }
   ],
   "source": [
    "# predict and calculate loss\n",
    "\n",
    "y_train_hat = polynomial_regression_degree_2_model.predict(X_train_polynomial)\n",
    "y_test_hat = polynomial_regression_degree_2_model.predict(X_test_polynomial)\n",
    "\n",
    "print('Train MSE:', mean_squared_error(y_train, y_train_hat))\n",
    "print('Test MSE:', mean_squared_error(y_test, y_test_hat))\n",
    "\n",
    "print('Train RMSE:', np.sqrt(mean_squared_error(y_train, y_train_hat)))\n",
    "print('Test RMSE:', np.sqrt(mean_squared_error(y_test, y_test_hat)))"
   ]
  },
  {
   "cell_type": "code",
   "execution_count": 107,
   "metadata": {},
   "outputs": [
    {
     "data": {
      "image/png": "[encoded data removed]",
      "text/plain": [
       "<Figure size 640x480 with 1 Axes>"
      ]
     },
     "metadata": {},
     "output_type": "display_data"
    }
   ],
   "source": [
    "plt.scatter(X_test, y_test)\n",
    "plt.scatter(X_test, y_test_hat)\n",
    "\n",
    "plt.xlabel('kms_driven');\n",
    "plt.ylabel('price(in lakhs)');"
   ]
  },
  {
   "cell_type": "markdown",
   "metadata": {},
   "source": [
    "Is that really better in any meaningul way? \n",
    "\n",
    "Hmm... Is there some sort of conclusion we can draw here?\n",
    "\n",
    "What should we do?"
   ]
  },
  {
   "cell_type": "markdown",
   "metadata": {},
   "source": [
    "---\n",
    "\n",
    "## Challanges\n",
    "\n",
    "**Task 1**\n",
    "\n",
    "Clearly, trying to model car prices using km_driven alone atleast seems difficult with linear or polynomial models.\n",
    "\n",
    "But if you were forced to do it anyway, what should we do? Look at the plots above and see if you can come up with an idea.\n",
    "\n",
    "<details>\n",
    "  <summary>Answer</summary>\n",
    "  Predicting for both expensive and cheaper cars simultaneously with one model doesn't seem to be a good idea. We might get much better performance if we instead split those stratas and train a model on each seperately.\n",
    "</details>\n",
    "\n"
   ]
  },
  {
   "cell_type": "markdown",
   "metadata": {},
   "source": [
    "**Task 2**\n",
    "\n",
    "Create two datasets from used_cars_df, called used_expensive_cars_df and used_cheap_cars_df. Define cheap to be a car that costs 12.5 lakh or less.\n",
    "\n",
    "Train a linear model on the used_cheap_cars_df data and try to predict the sales price using only kms_driven.\n",
    "\n",
    "What do you end up with? Is it better than before? \n",
    "\n",
    "*Hint:* You can use pretty much everything we've done above!"
   ]
  },
  {
   "cell_type": "code",
   "execution_count": null,
   "metadata": {},
   "outputs": [],
   "source": []
  },
  {
   "cell_type": "markdown",
   "metadata": {},
   "source": [
    "**Task 3**\n",
    "\n",
    "Instead of kms_driven, now try using one of the other available features to model price. Do you get better performance? Limit your analysis to cheap cars.\n",
    "\n",
    "Which of the feature seem to be the single best one at predicting car price?\n",
    "\n",
    "*Hint:* You might need to deal with some unreasonable data in the other features aswell.\n",
    "\n"
   ]
  },
  {
   "cell_type": "markdown",
   "metadata": {},
   "source": [
    "**Task 4**\n",
    "\n",
    "We have not learned how to work with non-numeric columns yet as features for ML-models. However, see if you still can try to analyze the original columns we removed. Look for outliers, faulty data and other irregularities"
   ]
  }
 ],
 "metadata": {
  "kernelspec": {
   "display_name": "machinelearning",
   "language": "python",
   "name": "python3"
  },
  "language_info": {
   "codemirror_mode": {
    "name": "ipython",
    "version": 3
   },
   "file_extension": ".py",
   "mimetype": "text/x-python",
   "name": "python",
   "nbconvert_exporter": "python",
   "pygments_lexer": "ipython3",
   "version": "3.11.11"
  }
 },
 "nbformat": 4,
 "nbformat_minor": 2
}
